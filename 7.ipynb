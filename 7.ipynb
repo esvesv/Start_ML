{
 "cells": [
  {
   "cell_type": "markdown",
   "id": "24fd4221-2b71-4e3a-afb2-4f339cc748f2",
   "metadata": {},
   "source": [
    "# Простые классы\n",
    "Напишите класс `Triangle`, который будет иметь 3 поля: `a, b, c` (стороны треугольника) и `n_dots = 3` (количество точек). Поле `n_dots` объявите на уровне класса, не в конструкторе — чтобы оно было доступно без создания объекта (т.е. работал вызов `Triangle.n_dots`). Добавьте в класс простой конструктор, принимающий на вход все три стороны и сохраняющий эти стороны в соответсвующие поля класса.\n",
    "Создайте объекты этого класса со следующими названиями: `tr_1, tr_2` и любыми значениями длин сторон.\n",
    "\n",
    "[Подсказки](https://abrupt-moose-9e7.notion.site/7-1-PYTHON-896b4331d2b54ec3b61d99438074ac65)"
   ]
  },
  {
   "cell_type": "code",
   "execution_count": 4,
   "id": "ad55a0ad-45a4-4f24-86cb-c597a91416e9",
   "metadata": {},
   "outputs": [],
   "source": [
    "class Triangle:\n",
    "    n_dots = 3\n",
    "    def __init__(self, a, b, c):\n",
    "        self.a = a\n",
    "        self.b = b\n",
    "        self.c = c\n",
    "\n",
    "tr_1 = Triangle(3, 5, 6)\n",
    "tr_2 = Triangle(4, 8, 5)"
   ]
  },
  {
   "cell_type": "markdown",
   "id": "632ded49-f371-4f64-a4f9-bfbfa4f497ef",
   "metadata": {},
   "source": [
    "# Усложняем треугольник\n",
    "Возьмите класс `Triangle` из предыдущего задания и добавьте метод `area()`, возвращающий площадь треугольника. Напомним, что при известных трех сторонах площадь треугольника можно подсчитать по формуле Герона: _`S=p(p−a)(p−b)(p−c), где p=1/2*(a+b+c)`_ - полупериметр. Подумайте, как можно организовать код так, чтобы `p` считалась один раз.\n",
    "\n",
    "Затем поменяйте конструктор: он должен проверять, что выполнено неравенство треугольника - каждая сторона меньше или равна сумме двух других. Если это условие не выполнено, выбрасывайте `ValueError` с текстом _\"triangle inequality does not hold\"_ (передайте эту строку в конструктор `ValueError`).\n",
    "\n",
    "Наконец, создайте два объекта данного класса с названиями `tr_1` и `tr_2` , в которых соблюдается равенство треугольника. Также, сохраните в переменные `square_1` и `square_2` результаты вызовов методов `.area()` для объектов `tr_1` и `tr_2` соответственно.\n",
    "________________________________________\n",
    "Может пригодиться:\n",
    "\n",
    "[Ключевое слово raise в Python](https://pythonru.com/osnovy/obrabotka-iskljuchenij-python-blok-try-except-blok-finally#:~:text=str%2C%20not%20int-,b.%20Raise%20%D1%81%20%D0%B0%D1%80%D0%B3%D1%83%D0%BC%D0%B5%D0%BD%D1%82%D0%BE%D0%BC%20%D0%B2%20Python,-%D0%A2%D0%B0%D0%BA%D0%B6%D0%B5%20%D0%BC%D0%BE%D0%B6%D0%BD%D0%BE%20%D1%83%D0%BA%D0%B0%D0%B7%D0%B0%D1%82%D1%8C)\n",
    "\n",
    "[Подсказки](https://abrupt-moose-9e7.notion.site/7-2-PYTHON-e399578cec514ae48ee1f8cc35c5e673)"
   ]
  },
  {
   "cell_type": "code",
   "execution_count": 13,
   "id": "6b35436b-98de-475b-8502-1924e9d6d45d",
   "metadata": {},
   "outputs": [],
   "source": [
    "class Triangle:\n",
    "    n_dots = 3\n",
    "    \n",
    "    def __init__(self, a, b, c):\n",
    "        if self.__check_triangle(a, b, c):\n",
    "            raise ValueError('triangle inequality does not hold')\n",
    "        self.a = a\n",
    "        self.b = b\n",
    "        self.c = c\n",
    "        self.p = (a + b + c) / 2\n",
    "\n",
    "    def area(self):\n",
    "        return self.p * (self.p - self.a) * (self.p - self.b) * (self.p - self.c)\n",
    "\n",
    "    def __check_triangle(self, a, b, c):\n",
    "        return any((a >= (b + c), b >= (a + c), c >= (b + a)))\n",
    "\n",
    "tr_1 = Triangle(3, 8, 6)\n",
    "tr_2 = Triangle(5, 7, 6)\n",
    "\n",
    "square_1 = tr_1.area()\n",
    "square_2 = tr_2.area()"
   ]
  },
  {
   "cell_type": "markdown",
   "id": "0e820022-adee-48bf-860d-79a58768ae9a",
   "metadata": {
    "jp-MarkdownHeadingCollapsed": true
   },
   "source": [
    "# Простое наследование\n",
    "Создайте класс `Rectangle` (прямоугольник), который будет наследоваться от класса Triangle. Сделайте так, чтобы `area()`, конструктор и поле `n_dots` были верными. А именно:\n",
    "1. Конструктор должен принимать 2 стороны: `a, b`\n",
    "2. `area()` должен считать площадь как произведение смежных сторон: `S=ab`\n",
    "3. Неравенство треугольника не нужно проверять.\n",
    "4. `n_dots` должен быть объявлен на уровне класса и равняться `4`.\n",
    "\n",
    "Отправьте реализацию класса `Rectangle` в LMS. Класс `Triangle` отправлять не нужно.\n",
    "\n",
    "[Подсказки](https://abrupt-moose-9e7.notion.site/7-3-PYTHON-0aad03b903e14e7e85f4abbe1c904639)"
   ]
  },
  {
   "cell_type": "code",
   "execution_count": 18,
   "id": "a2faacac-b89f-4721-af1e-643dff1f3eae",
   "metadata": {},
   "outputs": [],
   "source": [
    "class Rectangle(Triangle):\n",
    "    n_dots = 4\n",
    "\n",
    "    def __init__(self, a, b):\n",
    "        self.a = a\n",
    "        self.b = b\n",
    "\n",
    "    def area(self):\n",
    "        return self.a * self.b"
   ]
  },
  {
   "cell_type": "markdown",
   "id": "bb196a7b-1823-43bb-ac4b-ece14814c478",
   "metadata": {},
   "source": [
    "# Наследование: абстрактный класс (1/4)\n",
    "Вы, наверно, заметили, что при наследовании в прошлом задании мы переписали почти всю логику. Это плохо: при наследовании нужно расширять класс, а не переписывать его.\n",
    "\n",
    "Но все же хочется использовать наследование, ведь треугольники и прямоугольники имеют общие свойства: \n",
    "1. Оба характеризуются количеством точек `n_dots`.\n",
    "2. Оба имеют метод `area()`.\n",
    "3. Оба имеют проверки на валидность данных. В случае прямоугольника это было равенство противоположных сторон, которое мы пропустили благодаря трюку: вместо принятия четырех сторон `a, b, c, d` на вход мы принимали две и далее держали в уме _`a=c, b=d`_. В случае треугольника это было _неравенство треугольника_.\n",
    "\n",
    "Тут нам поможет создание некой \"базовой фигуры\". Это будет сборник общих свойств, который сам по себе не будет представлять никакую фигуру, но послужит хорошим плацдармом для следующих классов.\n",
    "\n",
    "Напишите класс `BaseFigure`, который имеет поле класса (т.е. на уровне класса) `n_dots = None`, метод `area()` \"без реализации\", метод `validate()` \"без реализации\". Сделайте так, чтобы методы \"без реализации\" выбрасывали исключение `NotImplementedError` при их вызове и ничего другого не делали. Создайте также конструктор класса, который не принимает дополнительных аргументов и в реализации только лишь вызывает `self.validate()`.\n",
    "\n",
    "[Подсказки](https://abrupt-moose-9e7.notion.site/7-4-PYTHON-952dfe234250473bb3e3cc6dd41c7cb3)"
   ]
  },
  {
   "cell_type": "code",
   "execution_count": 20,
   "id": "93465962-b534-479f-a8a2-eeba374937de",
   "metadata": {},
   "outputs": [],
   "source": [
    "class BaseFigure:\n",
    "    n_dots = None\n",
    "\n",
    "    def __init__(self):\n",
    "        self.validate()\n",
    "\n",
    "    def area(self):\n",
    "        raise NotImplementedError\n",
    "\n",
    "    def validate(self):\n",
    "        raise NotImplementedError"
   ]
  },
  {
   "cell_type": "markdown",
   "id": "d1c69ce1-ac0f-4752-aaa5-40f95fa3997e",
   "metadata": {},
   "source": [
    "# Наследование: абстрактный класс (2/4)\n",
    "Перепишите классы `Triangle`, `Rectangle` так, чтобы они наследовались от `BaseFigure`. Затем уберите реализацию всех методов и конструкторов в классах-потомках.\n",
    "\n",
    "Есть ли у `Triangle, Rectangle` методы `area, validate`? Если есть, то что они возвращают при вызове?\n",
    "\n",
    "[Подсказки](https://abrupt-moose-9e7.notion.site/7-5-PYTHON-6097f141070848f79d685dff34b89cf1)"
   ]
  },
  {
   "cell_type": "code",
   "execution_count": 29,
   "id": "0892058d-928f-4340-b3d9-2a0404290b1f",
   "metadata": {},
   "outputs": [],
   "source": [
    "class Triangle(BaseFigure):\n",
    "    pass\n",
    "\n",
    "class Rectangle(BaseFigure):\n",
    "    pass"
   ]
  },
  {
   "cell_type": "markdown",
   "id": "8fa042e4-c123-4d4a-8675-20b889c0f796",
   "metadata": {},
   "source": [
    "# Наследование: абстрактный класс (3/4)\n",
    "Возьмите классы `Triangle` и `Rectangle` из прошлого задания.\n",
    "1. Переопределите метод `area` в каждом случае.\n",
    "2. Переопределите конструктор в каждом случае (число аргументов тоже меняется). Не забудьте в конструкторе дочернего класса вызвать конструктор родительского класса!\n",
    "3. Переопределите метод `validate` в каждом случае. Метод `validate` должен принимать только аргумент `self` и использовать созданные в конструкторе переменные. Для этого вы можете сначала сохранять в конструкторе входные данные в `self.переменная`, а затем вызывать конструктор суперкласса. Для `Triangle` данный метод должен проверять неравенство треугольника и выбрасывать ошибку `ValueError(\"triangle inequality does not hold\")` либо возвращать значения сторон. Для `Rectangle` данный метод должен возвращать значения сторон.\n",
    "\n",
    "В итоге вы получите два класса, которые построены по схожему шаблону. Этот общий шаблон был задан в классе `BaseFigure`. Создайте несколько объектов этих классов и попробуйте вызвать у них `.area()`, `.validate()`. Если вы пользуетесь IDE, то увидите интерактивные подсказки: она скажет, что такие методы есть и что эти методы _перегружают (overload)_ методы из родительского класса. При этом вызов методов будет работать коррректно.\n",
    "\n",
    "[Подсказки](https://abrupt-moose-9e7.notion.site/7-6-PYTHON-6f6269f1621642b1bf3970160231bea3)"
   ]
  },
  {
   "cell_type": "code",
   "execution_count": 49,
   "id": "16fd5cd2-71fe-49a9-a239-447b0c56cc8a",
   "metadata": {},
   "outputs": [],
   "source": [
    "class Triangle(BaseFigure):\n",
    "    n_dots = 3\n",
    "\n",
    "    def __init__(self, a, b, c):\n",
    "        self.a = a\n",
    "        self.b = b\n",
    "        self.c = c\n",
    "        self.p = (a + b + c) / 2\n",
    "        super().__init__()\n",
    "\n",
    "    def validate(self):\n",
    "        if any((self.a > self.b + self.c, self.b > self.a + self.c, self.c > self.b + self.a)):\n",
    "            raise ValueError('triangle inequality does not hold')\n",
    "        return self.a, self.b, self.c\n",
    "\n",
    "    def area(self):\n",
    "        return self.p * (self.p - self.a) * (self.p - self.b) * (self.p - self.c)\n",
    "\n",
    "class Rectangle(BaseFigure):\n",
    "    n_dots = 4\n",
    "\n",
    "    def __init__(self, a, b):\n",
    "        self.a = a\n",
    "        self.b = b\n",
    "        super().__init__()\n",
    "\n",
    "    def validate(self):\n",
    "        return self.a, self.b\n",
    "\n",
    "    def area(self):\n",
    "        return self.a * self.b"
   ]
  },
  {
   "cell_type": "markdown",
   "id": "cfb64d71-15a0-4b72-a29e-9ff9c1577bc0",
   "metadata": {},
   "source": [
    "# Наследование: абстрактный класс (4/4)\n",
    "Попробуем собрать совершенно новый класс, используя `BaseFigure` в качестве шаблона.\n",
    "\n",
    "Напишите класс `Circle`, в котором в качестве `n_dots` будет `float('inf')`, `area` будет считаться как $3.14 * r^2$, а конструктор будет принимать только один аргумент - $r$. Метод `validate` не должен принимать никаких аргументов и не должен осуществлять никаких проверок.\n",
    "\n",
    "[Подсказки](https://abrupt-moose-9e7.notion.site/7-7-PYTHON-3e4daf82a6204baca294d82173872eb5)"
   ]
  },
  {
   "cell_type": "code",
   "execution_count": 56,
   "id": "70e7a3ac-95ac-4713-afad-50705c836b59",
   "metadata": {},
   "outputs": [],
   "source": [
    "class Circle(BaseFigure):\n",
    "    n_dots = float('inf')\n",
    "\n",
    "    def validate(self):\n",
    "        pass\n",
    "\n",
    "    def __init__(self, r):\n",
    "        self.r = r\n",
    "\n",
    "    def area(self):\n",
    "        return 3.14 * self.r ** 2"
   ]
  },
  {
   "cell_type": "markdown",
   "id": "54550659-cbbf-48d5-ac9d-732f4ce2763f",
   "metadata": {},
   "source": [
    "# Магические методы: вектор (1/4)\n",
    "Напишите класс `Vector`, который на вход будет принимать список координат $(x1,…,xn)$. Положите все координаты вектора в список `self.coords`.\n",
    "\n",
    "Добейтесь того, чтобы объекты класса `Vector` можно было складывать через оператор + и получать на выходе тоже объект этого же класса. Например:\n",
    "\n",
    "`# Будет работать`  \n",
    "`Vector([1, 2, 3]) + Vector((2, 3, 4)) # даст Vector([3, 5, 7])`\n",
    "\n",
    "`# НЕ будет работать`  \n",
    "`Vector([1, 2]) + Vector([1, 2, 3])  # нельзя складывать векторы разной длины`\n",
    "\n",
    "`# Должно возвращать ошибку (сообщение тоже!)`  \n",
    "`# ValueError: left and right lengths differ: 2 != 3`\n",
    "\n",
    "[Подсказки](https://abrupt-moose-9e7.notion.site/7-8-PYTHON-2957736d6f6c44248d3d7421664a8f7d)"
   ]
  },
  {
   "cell_type": "code",
   "execution_count": 89,
   "id": "f8c1abcc-f5d5-468b-b3c2-188d8fa476d4",
   "metadata": {},
   "outputs": [],
   "source": [
    "class Vector:\n",
    "    def __init__(self, *coords):\n",
    "        self.coords = list(*coords)\n",
    "\n",
    "    def __add__(self, other):\n",
    "        if len(self.coords) != len(other.coords):\n",
    "            raise ValueError(f'left and right lengths differ: {len(self.coords)} != {len(other.coords)}')\n",
    "        return Vector([x[0] + x[1] for x in zip(self.coords, other.coords)])"
   ]
  },
  {
   "cell_type": "markdown",
   "id": "cb3a611a-037d-4bca-9f2b-5a8fd3f1cb94",
   "metadata": {},
   "source": [
    "# Магические методы: вектор (2/4)\n",
    "Добавим могущества нашему вектору.  \n",
    "Добавьте методу красивый вывод при передаче его в `print(...)`. Пример:\n",
    "\n",
    "`print(Vector([1, 2, 3]))`  \n",
    "`# Напечатает: \"[1, 2, 3]\" без кавычек`\n",
    "\n",
    "`vec = Vector([1])`\n",
    "\n",
    "`print(vec)`\n",
    "\n",
    "`# Напечатает \"[1]\" без кавычек`\n",
    "Отправьте реализацию класса Vector ниже.\n",
    "________________________________________\n",
    "[Подсказки](https://abrupt-moose-9e7.notion.site/7-9-PYTHON-ebab07eca8ec4bf79e1439ccbaf2e429)"
   ]
  },
  {
   "cell_type": "code",
   "execution_count": 94,
   "id": "5755000c-3281-4351-9f22-25a5943e5541",
   "metadata": {},
   "outputs": [],
   "source": [
    "class Vector:\n",
    "    def __init__(self, *coords):\n",
    "        self.coords = list(*coords)\n",
    "\n",
    "    def __add__(self, other):\n",
    "        if len(self.coords) != len(other.coords):\n",
    "            raise ValueError(f'left and right lengths differ: {len(self.coords)} != {len(other.coords)}')\n",
    "        return Vector([x[0] + x[1] for x in zip(self.coords, other.coords)])\n",
    "\n",
    "    def __str__(self):\n",
    "        return self.coords.__str__()\n",
    "\n",
    "    def __repr__(self):\n",
    "        return self.coords.__repr__()"
   ]
  },
  {
   "cell_type": "markdown",
   "id": "5a6384fd-debf-4d57-a565-fe5d89f28f4b",
   "metadata": {},
   "source": [
    "# Магические методы: вектор (3/4)\n",
    "Продолжаем улучшать вектор. Добавьте в класс возможность умножать вектор на вектор и вектор на число. Не забудьте сохранять координаты вектора в `self.coords`.\n",
    "\n",
    "`Vector([1, 2, 3]) * Vector([2, 5, -2])  # даст 6`\n",
    "\n",
    "`# 1 * 2 + 2 * 5 + 3 * (-2) = 6`\n",
    "\n",
    "`Vector([1, 2]) * Vector([2, 3, 4])`\n",
    "\n",
    "`# ValueError: left and right lengths differ: 2 != 3`\n",
    "\n",
    "`Vector([2, 3, 5, 8]) * 5  # даст Vector([10, 15, 25, 40])`\n",
    "\n",
    "Для проверки типов используйте isinstance(object, class).\n",
    "\n",
    "[Подсказки](https://abrupt-moose-9e7.notion.site/7-10-PYTHON-0cca768bd8e34877a6e13928c69b9037)"
   ]
  },
  {
   "cell_type": "code",
   "execution_count": 107,
   "id": "79e26266-9069-4890-88f2-7b751dcac914",
   "metadata": {},
   "outputs": [],
   "source": [
    "class Vector:\n",
    "    def __init__(self, *coords):\n",
    "        self.coords = list(*coords)\n",
    "\n",
    "    def __add__(self, other):\n",
    "        self.validate()\n",
    "        return Vector([x[0] + x[1] for x in zip(self.coords, other.coords)])\n",
    "\n",
    "    def __str__(self):\n",
    "        return self.coords.__str__()\n",
    "\n",
    "    def __repr__(self):\n",
    "        return self.coords.__repr__()\n",
    "\n",
    "    def __mul__(self, other):\n",
    "        if isinstance(other, Vector):\n",
    "            self.validate(other)\n",
    "            return sum((x[0] * x[1] for x in zip(self.coords, other.coords)))\n",
    "        if isinstance(other, (float, int)):\n",
    "            return Vector([other * x for x in self.coords])\n",
    "            \n",
    "\n",
    "    def validate(self, other):\n",
    "        if len(self.coords) != len(other.coords):\n",
    "            raise ValueError(f'left and right lengths differ: {len(self.coords)} != {len(other.coords)}')"
   ]
  },
  {
   "cell_type": "markdown",
   "id": "5801bb88-50e7-4d9b-bde2-6e3676160deb",
   "metadata": {},
   "source": [
    "# Магические методы: вектор (4/4)\n",
    "\n",
    "Последние штрихи для нашего вектора.\n",
    "\n",
    "Добавьте в класс возможности сравнивать два вектора между собой и считать `abs` (это длина вектора, в Евклидовой метрике).\n",
    "\n",
    "`abs(Vector([-12, 5]))  # Должно быть 13`\n",
    "\n",
    "`Vector([1, 3, 5]) == Vector([1])  # False`\n",
    "\n",
    "`Vector([1, 3, 5]) == Vector([-1, 3, 5])  # False`\n",
    "\n",
    "`Vector([1, 3, 5]) == Vector([1, 3, 5])  # True`\n",
    "\n",
    "По итогу мы получим вектора, которые можно складывать, умножать, печатать, считать длину и сравнивать на равенство друг с другом.\n",
    "\n",
    "[Подсказки](https://abrupt-moose-9e7.notion.site/7-11-PYTHON-d09858b2a3ba4ae695bfc59bde95f410)"
   ]
  },
  {
   "cell_type": "code",
   "execution_count": 3,
   "id": "065f12c4-12bd-44ee-9ecf-63f580bb5553",
   "metadata": {},
   "outputs": [],
   "source": [
    "class Vector:\n",
    "    def __init__(self, *coords):\n",
    "        self.coords = list(*coords)\n",
    "\n",
    "    def __add__(self, other):\n",
    "        self.validate()\n",
    "        return Vector([x[0] + x[1] for x in zip(self.coords, other.coords)])\n",
    "\n",
    "    def __str__(self):\n",
    "        return self.coords.__str__()\n",
    "\n",
    "    def __repr__(self):\n",
    "        return self.coords.__repr__()\n",
    "\n",
    "    def __mul__(self, other):\n",
    "        if isinstance(other, Vector):\n",
    "            self.validate(other)\n",
    "            return sum((x[0] * x[1] for x in zip(self.coords, other.coords)))\n",
    "        if isinstance(other, (float, int)):\n",
    "            return Vector([other * x for x in self.coords])\n",
    "\n",
    "    def __abs__(self):\n",
    "        return sum(map(lambda x: x ** 2, self.coords)) ** (1 / 2)\n",
    "\n",
    "    def __eq__(self, other):\n",
    "        if len(self.coords) != len(other.coords):\n",
    "            return False\n",
    "        return all((x[0] == x[1] for x in zip(self.coords, other.coords)))\n",
    "            \n",
    "\n",
    "    def validate(self, other):\n",
    "        if len(self.coords) != len(other.coords):\n",
    "            raise ValueError(f'left and right lengths differ: {len(self.coords)} != {len(other.coords)}')"
   ]
  },
  {
   "cell_type": "markdown",
   "id": "d4713f8c-2360-4cd6-8507-ec9b50f65df5",
   "metadata": {},
   "source": [
    "# Множественное наследование (1/3)\n",
    "[Хорошая статья про проблемы множественного наследования](https://www.geeksforgeeks.org/multiple-inheritance-in-python/)\n",
    "\n",
    "Попробуем сделать множественное наследование аккуратно и так, как его обычно делают в популярных библиотеках.\n",
    "\n",
    "Обычно множественное наследование используют в т.н. _Mixins_. `Mixin` (рус. миксины) - это класс, не имеющий полей и имеющий один или более не абстрактных методов (т.е. методов с реализацией). Обычно миксины используют для того, чтобы модульно раздавать различные функциональности различным объектам.\n",
    "\n",
    "В лекции был пример с `Connectable` и `PostgresqlConnection`. `Connectable` как раз был одной из `Mixin`.\n",
    "\n",
    "Вас перевели из тех.директора сложного проекта в бекенд-разработчика. Встала задача разработать класс, которому на вход будет приходить разобранный запрос от пользователя. Запрос имеет вид:\n",
    "\n",
    "```\n",
    "# будет приходить запрос в виде словаря\n",
    "\n",
    "request = {  \n",
    "    \"cookies\": {key_1: value_1, key_2: value_2, ...},\n",
    "    \"body\": \"a long time ago, in a Galaxy far, far away\",\n",
    "    \"headers\": {\"content-type\": \"application/json\", \"Accept\": \"application/json\"}\n",
    "}\n",
    "```\n",
    "```\n",
    "# и этот словарь будет передаваться в конструктор класса\n",
    "\n",
    "handler = Handler(request)\n",
    "```\n",
    "\n",
    "Разным классам в приложении потребуется разная функциональность: кому-то потребуется проверять, есть ли в `headers` ключ `\"Accept\"`, кому-то потребуется читать `body`, а кому-то понадобится проверять пустоту `cookies`. Будут и классы, которым потребуется несколько возможностей сразу.\n",
    "\n",
    "Напишите классы `ParsesCookies, ParsesBody, ParsesHeaders` по условиям:\n",
    "1. Класс `ParsesCookies` имеет метод `cookies()`, возвращающий все по ключу `cookies` из словаря `self.request`.\n",
    "2. Класс `ParsesCookies` имеет метод `is_authed()`, который будет проверять, что в словаре `cookies` будет ключ `auth_key` (ни в коем случае не используйте такую авторизацию в реальных проектах).\n",
    "3. Класс `ParsesBody` имеет метод `body()`, возвращающий текст по ключу `body` в `self.request`.\n",
    "4. Класс `ParsesHeaders` имеет метод `headers()`, возвращающий все по ключу `headers` из словаря `self.request`.\n",
    "5. Класс `ParsesHeaders` имеет метод `need_json()`, который возвращает `True`, если в `headers` по ключу `\"content-type\"` лежит значение `\"application/json\"`, иначе `False`.\n",
    " \n",
    "[Подсказки](https://abrupt-moose-9e7.notion.site/7-12-PYTHON-c509b5724a83498b8e0f78184ddb1bc0)"
   ]
  },
  {
   "cell_type": "code",
   "execution_count": 61,
   "id": "16b8c60a-0574-42a3-baeb-9c1906548186",
   "metadata": {},
   "outputs": [],
   "source": [
    "class Handler:\n",
    "    def __init__(self, request):\n",
    "        self.request = request\n",
    "\n",
    "class ParsesCookies(Handler):\n",
    "    def cookies(self):\n",
    "        return self.request.get('cookies')\n",
    "\n",
    "    def is_authed(self):\n",
    "        if self.cookies():\n",
    "            return 'auth_key' in self.cookies()\n",
    "\n",
    "class ParsesBody(Handler):\n",
    "    def body(self):\n",
    "        return self.request.get('body')\n",
    "\n",
    "class ParsesHeaders(Handler):\n",
    "    def headers(self):\n",
    "        return self.request.get('headers')\n",
    "\n",
    "    def need_json(self):\n",
    "        if self.headers():\n",
    "            return self.headers().get('content-type') == 'application/json'"
   ]
  },
  {
   "cell_type": "markdown",
   "id": "840b6ae7-2eb6-4322-8899-5667ef3e48ba",
   "metadata": {},
   "source": [
    "# Множественное наследование (2/3)\n",
    "\n",
    "Используя миксины из прошлого пункта, напишите класс `JsonHandler`, который будет наследоваться от классов `ParsesBody` и `ParsesHeaders`, иметь метод `process()` и `конструктор`, принимающий аргумент `request` и сохраняющий в `self.request`. В этом задании нужно использовать библиотеку `json`.\n",
    "\n",
    "Метод `process()` должен работать следующим образом:\n",
    "1. Если `need_json()` дает `False`, то возвращать `None`\n",
    "2. Иначе получать тело через `body()`, пытаться считать его как `json.loads(...)` и возвращать число ключей в словаре. Если считать не удалось, то вернуть `None`.\n",
    "\n",
    "Отправьте реализацию класса JsonHandler в LMS. Классы ParsesBody и ParsesHeaders отправлять не нужно.\n",
    "\n",
    "_Обратите внимание, что с помощью миксин функциональность проверки headers и получения body была вынесена за JsonHandler - наш класс сосредоточился именно на обработке._\n",
    "```\n",
    "# Пример использования\n",
    "r = {'body': '{\"a\": 123, \"b\": 1234}',\n",
    "     'headers': {'content-type': 'application/json'}\n",
    "    }\n",
    "print(JsonHandler(r).process())\n",
    "```\n",
    "\n",
    "[Подсказки](https://abrupt-moose-9e7.notion.site/7-13-PYTHON-fc79786c1a3e41479729e44fd2816dbb)"
   ]
  },
  {
   "cell_type": "code",
   "execution_count": 42,
   "id": "72128aa5-bf91-4120-a238-cf3a1fc44070",
   "metadata": {},
   "outputs": [],
   "source": [
    "import json\n",
    "\n",
    "class JsonHandler(ParsesBody, ParsesHeaders):\n",
    "    def process(self):\n",
    "        if self.need_json():\n",
    "            try:\n",
    "                return len(json.loads(self.body()))\n",
    "            except:\n",
    "                return None"
   ]
  },
  {
   "cell_type": "markdown",
   "id": "3cfb7260-3f85-4e58-b109-cc8d7c027248",
   "metadata": {},
   "source": [
    "# Множественное наследование (3/3)\n",
    "\n",
    "Используя миксины из прошлого пункта, напишите класс `SecureTextHandler`, который будет наследоваться от классов `ParsesBody`, `ParsesHeaders` и `ParsesCookies`, иметь метод `process()` и `конструктор`, принимающий один аргумент и сохраняющий его в нужное поле класса.\n",
    "\n",
    "Метод `process()` должен работать следующим образом:\n",
    "1. Если `is_authed()` дает `False`, то возвращать `None`.\n",
    "2. Иначе получать тело через `body()` и возвращать его длину.\n",
    "3. \n",
    "Добейтесь работоспособности на примере и реализацию класса `SecureTextHandler` отправьте в LMS. Классы `ParsesBody` и `ParsesHeaders`, `ParsesCookie` отправлять не нужно.\n",
    "```\n",
    "# Примеры\n",
    "r = {'cookies': {'auth_key': '123'},\n",
    "     'body': 'hello'\n",
    "    }\n",
    "print(SecureTextHandler(r).process())\n",
    "# 5\n",
    "\n",
    "r = {'cookies': {},\n",
    "     'body': 'hello'\n",
    "    }\n",
    "print(SecureTextHandler(r).process())\n",
    "# None\n",
    "```\n",
    "_Обратите внимание, что здесь мы комбинируем другие миксины, чтобы получить другую функциональность без дублирования логики._\n",
    "\n",
    "[Подсказки](https://abrupt-moose-9e7.notion.site/7-14-PYTHON-0f7c615a118c4afbb632f20e586e294b)"
   ]
  },
  {
   "cell_type": "code",
   "execution_count": 62,
   "id": "383b6cdb-88f9-43b7-b7da-c647e73785cb",
   "metadata": {},
   "outputs": [],
   "source": [
    "class SecureTextHandler(ParsesBody, ParsesHeaders, ParsesCookies):\n",
    "    def process(self):\n",
    "        if self.is_authed():\n",
    "            return len(self.body())"
   ]
  },
  {
   "cell_type": "code",
   "execution_count": 63,
   "id": "edfa6003-414b-45a2-b276-c19e71b729a1",
   "metadata": {},
   "outputs": [
    {
     "name": "stdout",
     "output_type": "stream",
     "text": [
      "5\n"
     ]
    }
   ],
   "source": [
    "r = {'cookies': {'auth_key': '123'},\n",
    "     'body': 'hello'\n",
    "    }\n",
    "print(SecureTextHandler(r).process())\n",
    "# 5"
   ]
  },
  {
   "cell_type": "code",
   "execution_count": 64,
   "id": "4bc1c06e-689b-43bd-8fcf-d012f99a440e",
   "metadata": {},
   "outputs": [
    {
     "name": "stdout",
     "output_type": "stream",
     "text": [
      "None\n"
     ]
    }
   ],
   "source": [
    "r = {'cookies': {},\n",
    "     'body': 'hello'\n",
    "    }\n",
    "print(SecureTextHandler(r).process())\n",
    "# None"
   ]
  },
  {
   "cell_type": "code",
   "execution_count": null,
   "id": "580332b9-532d-4459-9c45-4c48c07fc033",
   "metadata": {},
   "outputs": [],
   "source": []
  }
 ],
 "metadata": {
  "kernelspec": {
   "display_name": "Python 3 (ipykernel)",
   "language": "python",
   "name": "python3"
  },
  "language_info": {
   "codemirror_mode": {
    "name": "ipython",
    "version": 3
   },
   "file_extension": ".py",
   "mimetype": "text/x-python",
   "name": "python",
   "nbconvert_exporter": "python",
   "pygments_lexer": "ipython3",
   "version": "3.10.11"
  }
 },
 "nbformat": 4,
 "nbformat_minor": 5
}
