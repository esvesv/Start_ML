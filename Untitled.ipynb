{
 "cells": [
  {
   "cell_type": "code",
   "execution_count": 1,
   "id": "17b83dd5-d5ac-4c13-9e10-75f183f0e51d",
   "metadata": {},
   "outputs": [],
   "source": [
    "from dataclasses import dataclass"
   ]
  },
  {
   "cell_type": "code",
   "execution_count": 2,
   "id": "902a554e-cd65-4869-abc6-617c86e5385f",
   "metadata": {},
   "outputs": [],
   "source": [
    "@dataclass\n",
    "class Car:\n",
    "    color: str\n",
    "    model: str"
   ]
  },
  {
   "cell_type": "code",
   "execution_count": 3,
   "id": "7795eb8a-fc6f-42dd-9248-b1c5ee747b2e",
   "metadata": {},
   "outputs": [],
   "source": [
    "car = Car('white', 'Toyota')"
   ]
  },
  {
   "cell_type": "code",
   "execution_count": 4,
   "id": "0bf521d1-6998-4156-a65b-003a3ab16ebb",
   "metadata": {},
   "outputs": [
    {
     "data": {
      "text/plain": [
       "Car(color='white', model='Toyota')"
      ]
     },
     "execution_count": 4,
     "metadata": {},
     "output_type": "execute_result"
    }
   ],
   "source": [
    "car"
   ]
  },
  {
   "cell_type": "code",
   "execution_count": 5,
   "id": "5dcfe829-e3fd-4749-a6da-20e4c549efcc",
   "metadata": {},
   "outputs": [
    {
     "data": {
      "text/plain": [
       "Car(color='red', model='Toyota')"
      ]
     },
     "execution_count": 5,
     "metadata": {},
     "output_type": "execute_result"
    }
   ],
   "source": [
    "car.color = 'red'\n",
    "car"
   ]
  },
  {
   "cell_type": "code",
   "execution_count": null,
   "id": "39539408-8b8f-4599-bf8e-62f398269c63",
   "metadata": {},
   "outputs": [],
   "source": []
  }
 ],
 "metadata": {
  "kernelspec": {
   "display_name": "Python 3 (ipykernel)",
   "language": "python",
   "name": "python3"
  },
  "language_info": {
   "codemirror_mode": {
    "name": "ipython",
    "version": 3
   },
   "file_extension": ".py",
   "mimetype": "text/x-python",
   "name": "python",
   "nbconvert_exporter": "python",
   "pygments_lexer": "ipython3",
   "version": "3.10.11"
  }
 },
 "nbformat": 4,
 "nbformat_minor": 5
}
